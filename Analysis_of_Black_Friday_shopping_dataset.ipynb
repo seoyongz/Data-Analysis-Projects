{
  "cells": [
    {
      "cell_type": "markdown",
      "metadata": {
        "id": "yxwSfZ7boFbw"
      },
      "source": [
        "# Analysis of Black Friday shopping dataset\n",
        "\n",
        "\n"
      ]
    },
    {
      "cell_type": "markdown",
      "metadata": {
        "id": "Z2hiwSPoy1So"
      },
      "source": [
        "Import necessary modules: NumPy, Pandas, Matplotlib, Seaborn, ..."
      ]
    },
    {
      "cell_type": "code",
      "execution_count": null,
      "metadata": {
        "id": "yh46NQOXODX5"
      },
      "outputs": [],
      "source": [
        "import numpy as np\n",
        "import pandas as pd\n",
        "import matplotlib.pyplot as plt\n",
        "import seaborn as sns"
      ]
    },
    {
      "cell_type": "code",
      "execution_count": null,
      "metadata": {
        "id": "EZS-VQsPODUh"
      },
      "outputs": [],
      "source": [
        "np.random.seed(42)"
      ]
    },
    {
      "cell_type": "markdown",
      "metadata": {
        "id": "MCJx2Sk_zBhF"
      },
      "source": [
        "## Read the dataset\n",
        "\n",
        "Read the csv dataset using `pd.read_csv()`.\n",
        "\n",
        "The dataset comprises of sales transactions captured at a retail store: Black Friday shopping dataset. We will extract useful information that will answer questions like: what gender shops more on Black Friday? Do the occupations of the people have any impact on sales? Then, we will create a simple machine learning algorithm that predicts the amount of money that a person would spend on Black Friday depending on features such as gender, age, occupations, etc."
      ]
    },
    {
      "cell_type": "code",
      "execution_count": null,
      "metadata": {
        "id": "qpilboUP-Uiu"
      },
      "outputs": [],
      "source": [
        "import requests\n",
        "from io import StringIO"
      ]
    },
    {
      "cell_type": "code",
      "execution_count": null,
      "metadata": {
        "id": "GM8mYlNM-V4B"
      },
      "outputs": [],
      "source": [
        "orig_url = 'https://drive.google.com/file/d/1lGdc780LH6jzl9eFhO2p4wITdjIOGRn4/view?usp=sharing'\n",
        "file_id = orig_url.split('/')[-2]\n",
        "down_url = 'https://drive.google.com/uc?export=download&id=' + file_id\n",
        "url = requests.get(down_url).text\n",
        "csv_url = StringIO(url)"
      ]
    },
    {
      "cell_type": "code",
      "execution_count": null,
      "metadata": {
        "id": "1-_1OkpyODN6"
      },
      "outputs": [],
      "source": [
        "data = pd.read_csv(csv_url)"
      ]
    },
    {
      "cell_type": "code",
      "execution_count": null,
      "metadata": {
        "colab": {
          "base_uri": "https://localhost:8080/",
          "height": 281
        },
        "id": "w3LIsD7oO4-n",
        "outputId": "15eca580-b3d5-472e-d3fb-8c4f74832b4a"
      },
      "outputs": [
        {
          "data": {
            "text/html": [
              "<div>\n",
              "<style scoped>\n",
              "    .dataframe tbody tr th:only-of-type {\n",
              "        vertical-align: middle;\n",
              "    }\n",
              "\n",
              "    .dataframe tbody tr th {\n",
              "        vertical-align: top;\n",
              "    }\n",
              "\n",
              "    .dataframe thead th {\n",
              "        text-align: right;\n",
              "    }\n",
              "</style>\n",
              "<table border=\"1\" class=\"dataframe\">\n",
              "  <thead>\n",
              "    <tr style=\"text-align: right;\">\n",
              "      <th></th>\n",
              "      <th>User_ID</th>\n",
              "      <th>Product_ID</th>\n",
              "      <th>Gender</th>\n",
              "      <th>Age</th>\n",
              "      <th>Occupation</th>\n",
              "      <th>City_Category</th>\n",
              "      <th>Stay_In_Current_City_Years</th>\n",
              "      <th>Marital_Status</th>\n",
              "      <th>Product_Category_1</th>\n",
              "      <th>Product_Category_2</th>\n",
              "      <th>Product_Category_3</th>\n",
              "      <th>Purchase</th>\n",
              "    </tr>\n",
              "  </thead>\n",
              "  <tbody>\n",
              "    <tr>\n",
              "      <th>0</th>\n",
              "      <td>1000001</td>\n",
              "      <td>P00069042</td>\n",
              "      <td>F</td>\n",
              "      <td>0-17</td>\n",
              "      <td>10</td>\n",
              "      <td>A</td>\n",
              "      <td>2</td>\n",
              "      <td>0</td>\n",
              "      <td>3</td>\n",
              "      <td>NaN</td>\n",
              "      <td>NaN</td>\n",
              "      <td>8370</td>\n",
              "    </tr>\n",
              "    <tr>\n",
              "      <th>1</th>\n",
              "      <td>1000001</td>\n",
              "      <td>P00248942</td>\n",
              "      <td>F</td>\n",
              "      <td>0-17</td>\n",
              "      <td>10</td>\n",
              "      <td>A</td>\n",
              "      <td>2</td>\n",
              "      <td>0</td>\n",
              "      <td>1</td>\n",
              "      <td>6.0</td>\n",
              "      <td>14.0</td>\n",
              "      <td>15200</td>\n",
              "    </tr>\n",
              "    <tr>\n",
              "      <th>2</th>\n",
              "      <td>1000001</td>\n",
              "      <td>P00087842</td>\n",
              "      <td>F</td>\n",
              "      <td>0-17</td>\n",
              "      <td>10</td>\n",
              "      <td>A</td>\n",
              "      <td>2</td>\n",
              "      <td>0</td>\n",
              "      <td>12</td>\n",
              "      <td>NaN</td>\n",
              "      <td>NaN</td>\n",
              "      <td>1422</td>\n",
              "    </tr>\n",
              "    <tr>\n",
              "      <th>3</th>\n",
              "      <td>1000001</td>\n",
              "      <td>P00085442</td>\n",
              "      <td>F</td>\n",
              "      <td>0-17</td>\n",
              "      <td>10</td>\n",
              "      <td>A</td>\n",
              "      <td>2</td>\n",
              "      <td>0</td>\n",
              "      <td>12</td>\n",
              "      <td>14.0</td>\n",
              "      <td>NaN</td>\n",
              "      <td>1057</td>\n",
              "    </tr>\n",
              "    <tr>\n",
              "      <th>4</th>\n",
              "      <td>1000002</td>\n",
              "      <td>P00285442</td>\n",
              "      <td>M</td>\n",
              "      <td>55+</td>\n",
              "      <td>16</td>\n",
              "      <td>C</td>\n",
              "      <td>4+</td>\n",
              "      <td>0</td>\n",
              "      <td>8</td>\n",
              "      <td>NaN</td>\n",
              "      <td>NaN</td>\n",
              "      <td>7969</td>\n",
              "    </tr>\n",
              "  </tbody>\n",
              "</table>\n",
              "</div>"
            ],
            "text/plain": [
              "   User_ID Product_ID Gender  ... Product_Category_2  Product_Category_3 Purchase\n",
              "0  1000001  P00069042      F  ...                NaN                 NaN     8370\n",
              "1  1000001  P00248942      F  ...                6.0                14.0    15200\n",
              "2  1000001  P00087842      F  ...                NaN                 NaN     1422\n",
              "3  1000001  P00085442      F  ...               14.0                 NaN     1057\n",
              "4  1000002  P00285442      M  ...                NaN                 NaN     7969\n",
              "\n",
              "[5 rows x 12 columns]"
            ]
          },
          "execution_count": 6,
          "metadata": {
            "tags": []
          },
          "output_type": "execute_result"
        }
      ],
      "source": [
        "data.head()"
      ]
    },
    {
      "cell_type": "markdown",
      "metadata": {
        "id": "Gag9uHpF0MG1"
      },
      "source": [
        "## Data Analysis and Visualization\n",
        "\n"
      ]
    },
    {
      "cell_type": "markdown",
      "metadata": {
        "id": "Z6rYkYwd0AF1"
      },
      "source": [
        "Looking at the data:\n",
        "\n",
        "* user_id: user id\n",
        "* product_id: product id\n",
        "* gender: sex of user\n",
        "* age: age in bins\n",
        "* occupation: occupation (masked)\n",
        "* city_category: category of the city (A,B,C)\n",
        "* stay_in_current_city_years: number of years stay in current city\n",
        "* marital_status: marital status\n",
        "* product_category_1: product category (masked)\n",
        "* category_2,3: product may belongs to other category also\n",
        "* purchase: purchase amount (target variable)"
      ]
    },
    {
      "cell_type": "code",
      "execution_count": null,
      "metadata": {
        "colab": {
          "base_uri": "https://localhost:8080/"
        },
        "id": "fURtGWVPPFZs",
        "outputId": "1d8115a8-0315-49c4-ac7f-f48b23c7a127"
      },
      "outputs": [
        {
          "name": "stdout",
          "output_type": "stream",
          "text": [
            "<class 'pandas.core.frame.DataFrame'>\n",
            "RangeIndex: 550068 entries, 0 to 550067\n",
            "Data columns (total 12 columns):\n",
            " #   Column                      Non-Null Count   Dtype  \n",
            "---  ------                      --------------   -----  \n",
            " 0   User_ID                     550068 non-null  int64  \n",
            " 1   Product_ID                  550068 non-null  object \n",
            " 2   Gender                      550068 non-null  object \n",
            " 3   Age                         550068 non-null  object \n",
            " 4   Occupation                  550068 non-null  int64  \n",
            " 5   City_Category               550068 non-null  object \n",
            " 6   Stay_In_Current_City_Years  550068 non-null  object \n",
            " 7   Marital_Status              550068 non-null  int64  \n",
            " 8   Product_Category_1          550068 non-null  int64  \n",
            " 9   Product_Category_2          376430 non-null  float64\n",
            " 10  Product_Category_3          166821 non-null  float64\n",
            " 11  Purchase                    550068 non-null  int64  \n",
            "dtypes: float64(2), int64(5), object(5)\n",
            "memory usage: 50.4+ MB\n"
          ]
        }
      ],
      "source": [
        "data.info()"
      ]
    },
    {
      "cell_type": "code",
      "execution_count": null,
      "metadata": {
        "colab": {
          "base_uri": "https://localhost:8080/"
        },
        "id": "pSr42e54QSuY",
        "outputId": "a146c92f-277a-4b10-f066-456d6168cb53"
      },
      "outputs": [
        {
          "name": "stdout",
          "output_type": "stream",
          "text": [
            "(550068, 12)\n"
          ]
        }
      ],
      "source": [
        "print(data.shape)"
      ]
    },
    {
      "cell_type": "markdown",
      "metadata": {
        "id": "t7oC00M40bp_"
      },
      "source": [
        "We want to answer the questions:\n",
        "\n",
        "* What gender shops more on Black Friday? What gender spends more on Balck Friday?\n",
        "* Do the occupations of the people have any impact on sales?"
      ]
    },
    {
      "cell_type": "code",
      "execution_count": null,
      "metadata": {
        "colab": {
          "base_uri": "https://localhost:8080/"
        },
        "id": "BNdf2z-gwO22",
        "outputId": "eab6fef8-e0bb-4801-abb3-16f310157f29"
      },
      "outputs": [
        {
          "data": {
            "text/plain": [
              "Gender\n",
              "F    23959\n",
              "M    23961\n",
              "Name: Purchase, dtype: int64"
            ]
          },
          "execution_count": 23,
          "metadata": {
            "tags": []
          },
          "output_type": "execute_result"
        }
      ],
      "source": [
        "data.groupby(data.Gender).Purchase.max()"
      ]
    },
    {
      "cell_type": "code",
      "execution_count": null,
      "metadata": {
        "colab": {
          "base_uri": "https://localhost:8080/"
        },
        "id": "9Bog0JcRwgBN",
        "outputId": "63a1b5d6-815a-4398-8bb0-3e32902b5d56"
      },
      "outputs": [
        {
          "data": {
            "text/plain": [
              "Gender\n",
              "F    12\n",
              "M    12\n",
              "Name: Purchase, dtype: int64"
            ]
          },
          "execution_count": 24,
          "metadata": {
            "tags": []
          },
          "output_type": "execute_result"
        }
      ],
      "source": [
        "data.groupby(data.Gender).Purchase.min()"
      ]
    },
    {
      "cell_type": "code",
      "execution_count": null,
      "metadata": {
        "colab": {
          "base_uri": "https://localhost:8080/",
          "height": 138
        },
        "id": "yYw_b9qXwTgw",
        "outputId": "d4e9e783-3056-4b51-8947-533b4b6d84f6"
      },
      "outputs": [
        {
          "data": {
            "text/html": [
              "<div>\n",
              "<style scoped>\n",
              "    .dataframe tbody tr th:only-of-type {\n",
              "        vertical-align: middle;\n",
              "    }\n",
              "\n",
              "    .dataframe tbody tr th {\n",
              "        vertical-align: top;\n",
              "    }\n",
              "\n",
              "    .dataframe thead th {\n",
              "        text-align: right;\n",
              "    }\n",
              "</style>\n",
              "<table border=\"1\" class=\"dataframe\">\n",
              "  <thead>\n",
              "    <tr style=\"text-align: right;\">\n",
              "      <th></th>\n",
              "      <th>Purchase</th>\n",
              "    </tr>\n",
              "    <tr>\n",
              "      <th>Gender</th>\n",
              "      <th></th>\n",
              "    </tr>\n",
              "  </thead>\n",
              "  <tbody>\n",
              "    <tr>\n",
              "      <th>F</th>\n",
              "      <td>8734.565765</td>\n",
              "    </tr>\n",
              "    <tr>\n",
              "      <th>M</th>\n",
              "      <td>9437.526040</td>\n",
              "    </tr>\n",
              "  </tbody>\n",
              "</table>\n",
              "</div>"
            ],
            "text/plain": [
              "           Purchase\n",
              "Gender             \n",
              "F       8734.565765\n",
              "M       9437.526040"
            ]
          },
          "execution_count": 25,
          "metadata": {
            "tags": []
          },
          "output_type": "execute_result"
        }
      ],
      "source": [
        "data[['Gender', 'Purchase']].groupby('Gender').mean()"
      ]
    },
    {
      "cell_type": "code",
      "execution_count": null,
      "metadata": {
        "colab": {
          "base_uri": "https://localhost:8080/",
          "height": 334
        },
        "id": "oQPHRfZB0xhC",
        "outputId": "53157698-ba0e-49ac-ea4c-09a46ffef4a0"
      },
      "outputs": [
        {
          "name": "stderr",
          "output_type": "stream",
          "text": [
            "/usr/local/lib/python3.7/dist-packages/seaborn/_decorators.py:43: FutureWarning: Pass the following variable as a keyword arg: x. From version 0.12, the only valid positional argument will be `data`, and passing other arguments without an explicit keyword will result in an error or misinterpretation.\n",
            "  FutureWarning\n"
          ]
        },
        {
          "data": {
            "image/png": "[encoded data removed]",
            "text/plain": [
              "<Figure size 432x288 with 1 Axes>"
            ]
          },
          "metadata": {
            "needs_background": "light",
            "tags": []
          },
          "output_type": "display_data"
        }
      ],
      "source": [
        "sns.countplot(data['Gender'])\n",
        "plt.show()"
      ]
    },
    {
      "cell_type": "markdown",
      "metadata": {
        "id": "n0DnDQz91BPE"
      },
      "source": [
        "Visualizing the age of customers, taking into consideration the 'Gender' category. We can use [`sns.countplot()`](https://seaborn.pydata.org/generated/seaborn.countplot.html) function for this purpose."
      ]
    },
    {
      "cell_type": "code",
      "execution_count": null,
      "metadata": {
        "colab": {
          "base_uri": "https://localhost:8080/",
          "height": 288
        },
        "id": "X-DgJd_twxvA",
        "outputId": "a58abe8d-7a4e-41ad-d648-6392466e9dd3"
      },
      "outputs": [
        {
          "data": {
            "text/html": [
              "<div>\n",
              "<style scoped>\n",
              "    .dataframe tbody tr th:only-of-type {\n",
              "        vertical-align: middle;\n",
              "    }\n",
              "\n",
              "    .dataframe tbody tr th {\n",
              "        vertical-align: top;\n",
              "    }\n",
              "\n",
              "    .dataframe thead th {\n",
              "        text-align: right;\n",
              "    }\n",
              "</style>\n",
              "<table border=\"1\" class=\"dataframe\">\n",
              "  <thead>\n",
              "    <tr style=\"text-align: right;\">\n",
              "      <th></th>\n",
              "      <th>Purchase</th>\n",
              "    </tr>\n",
              "    <tr>\n",
              "      <th>Age</th>\n",
              "      <th></th>\n",
              "    </tr>\n",
              "  </thead>\n",
              "  <tbody>\n",
              "    <tr>\n",
              "      <th>0-17</th>\n",
              "      <td>8933.464640</td>\n",
              "    </tr>\n",
              "    <tr>\n",
              "      <th>18-25</th>\n",
              "      <td>9169.663606</td>\n",
              "    </tr>\n",
              "    <tr>\n",
              "      <th>26-35</th>\n",
              "      <td>9252.690633</td>\n",
              "    </tr>\n",
              "    <tr>\n",
              "      <th>36-45</th>\n",
              "      <td>9331.350695</td>\n",
              "    </tr>\n",
              "    <tr>\n",
              "      <th>46-50</th>\n",
              "      <td>9208.625697</td>\n",
              "    </tr>\n",
              "    <tr>\n",
              "      <th>51-55</th>\n",
              "      <td>9534.808031</td>\n",
              "    </tr>\n",
              "    <tr>\n",
              "      <th>55+</th>\n",
              "      <td>9336.280459</td>\n",
              "    </tr>\n",
              "  </tbody>\n",
              "</table>\n",
              "</div>"
            ],
            "text/plain": [
              "          Purchase\n",
              "Age               \n",
              "0-17   8933.464640\n",
              "18-25  9169.663606\n",
              "26-35  9252.690633\n",
              "36-45  9331.350695\n",
              "46-50  9208.625697\n",
              "51-55  9534.808031\n",
              "55+    9336.280459"
            ]
          },
          "execution_count": 27,
          "metadata": {
            "tags": []
          },
          "output_type": "execute_result"
        }
      ],
      "source": [
        "data[['Age', 'Purchase']].groupby('Age').mean()"
      ]
    },
    {
      "cell_type": "code",
      "execution_count": null,
      "metadata": {
        "colab": {
          "base_uri": "https://localhost:8080/",
          "height": 334
        },
        "id": "Dmks-KS2wmaA",
        "outputId": "460b4ccc-81fc-4989-adfd-dda0d5b55f29"
      },
      "outputs": [
        {
          "name": "stderr",
          "output_type": "stream",
          "text": [
            "/usr/local/lib/python3.7/dist-packages/seaborn/_decorators.py:43: FutureWarning: Pass the following variable as a keyword arg: x. From version 0.12, the only valid positional argument will be `data`, and passing other arguments without an explicit keyword will result in an error or misinterpretation.\n",
            "  FutureWarning\n"
          ]
        },
        {
          "data": {
            "image/png": "[encoded data removed]",
            "text/plain": [
              "<Figure size 432x288 with 1 Axes>"
            ]
          },
          "metadata": {
            "needs_background": "light",
            "tags": []
          },
          "output_type": "display_data"
        }
      ],
      "source": [
        "sns.countplot(data['Age'], hue=data['Gender'])\n",
        "plt.xlabel('Different Categories of Age')\n",
        "plt.ylabel('Count')\n",
        "plt.show()"
      ]
    },
    {
      "cell_type": "code",
      "execution_count": null,
      "metadata": {
        "colab": {
          "base_uri": "https://localhost:8080/",
          "height": 334
        },
        "id": "ZMXV5BB2xBkt",
        "outputId": "7a872582-fd1f-496c-bf1e-0f9c75079aec"
      },
      "outputs": [
        {
          "name": "stderr",
          "output_type": "stream",
          "text": [
            "/usr/local/lib/python3.7/dist-packages/seaborn/_decorators.py:43: FutureWarning: Pass the following variable as a keyword arg: x. From version 0.12, the only valid positional argument will be `data`, and passing other arguments without an explicit keyword will result in an error or misinterpretation.\n",
            "  FutureWarning\n"
          ]
        },
        {
          "data": {
            "image/png": "[encoded data removed]",
            "text/plain": [
              "<Figure size 432x288 with 1 Axes>"
            ]
          },
          "metadata": {
            "needs_background": "light",
            "tags": []
          },
          "output_type": "display_data"
        }
      ],
      "source": [
        "# visulaizing the cities the customers are from\n",
        "\n",
        "sns.countplot(data['City_Category'])\n",
        "plt.xlabel('Cities')\n",
        "plt.ylabel('Count')\n",
        "plt.show()"
      ]
    },
    {
      "cell_type": "code",
      "execution_count": null,
      "metadata": {
        "colab": {
          "base_uri": "https://localhost:8080/",
          "height": 168
        },
        "id": "9z_Oc3Q-xHG_",
        "outputId": "d90c0e23-bdc4-4143-b42b-d380df03322e"
      },
      "outputs": [
        {
          "data": {
            "text/html": [
              "<div>\n",
              "<style scoped>\n",
              "    .dataframe tbody tr th:only-of-type {\n",
              "        vertical-align: middle;\n",
              "    }\n",
              "\n",
              "    .dataframe tbody tr th {\n",
              "        vertical-align: top;\n",
              "    }\n",
              "\n",
              "    .dataframe thead th {\n",
              "        text-align: right;\n",
              "    }\n",
              "</style>\n",
              "<table border=\"1\" class=\"dataframe\">\n",
              "  <thead>\n",
              "    <tr style=\"text-align: right;\">\n",
              "      <th></th>\n",
              "      <th>Purchase</th>\n",
              "    </tr>\n",
              "    <tr>\n",
              "      <th>City_Category</th>\n",
              "      <th></th>\n",
              "    </tr>\n",
              "  </thead>\n",
              "  <tbody>\n",
              "    <tr>\n",
              "      <th>A</th>\n",
              "      <td>8911.939216</td>\n",
              "    </tr>\n",
              "    <tr>\n",
              "      <th>B</th>\n",
              "      <td>9151.300563</td>\n",
              "    </tr>\n",
              "    <tr>\n",
              "      <th>C</th>\n",
              "      <td>9719.920993</td>\n",
              "    </tr>\n",
              "  </tbody>\n",
              "</table>\n",
              "</div>"
            ],
            "text/plain": [
              "                  Purchase\n",
              "City_Category             \n",
              "A              8911.939216\n",
              "B              9151.300563\n",
              "C              9719.920993"
            ]
          },
          "execution_count": 30,
          "metadata": {
            "tags": []
          },
          "output_type": "execute_result"
        }
      ],
      "source": [
        "data[['City_Category', 'Purchase']].groupby('City_Category').mean()"
      ]
    },
    {
      "cell_type": "code",
      "execution_count": null,
      "metadata": {
        "colab": {
          "base_uri": "https://localhost:8080/",
          "height": 297
        },
        "id": "D96DcSNc1yvQ",
        "outputId": "5772213d-17c5-4d03-ea2e-8fe8a78829ef"
      },
      "outputs": [
        {
          "data": {
            "text/plain": [
              "<matplotlib.axes._subplots.AxesSubplot at 0x7faacd8f88d0>"
            ]
          },
          "execution_count": 31,
          "metadata": {
            "tags": []
          },
          "output_type": "execute_result"
        },
        {
          "data": {
            "image/png": "[encoded data removed]",
            "text/plain": [
              "<Figure size 432x288 with 1 Axes>"
            ]
          },
          "metadata": {
            "needs_background": "light",
            "tags": []
          },
          "output_type": "display_data"
        }
      ],
      "source": [
        "sns.barplot(x='City_Category', y='Purchase', data=data)"
      ]
    },
    {
      "cell_type": "code",
      "execution_count": null,
      "metadata": {
        "colab": {
          "base_uri": "https://localhost:8080/"
        },
        "id": "IA_aMNaU2PzO",
        "outputId": "2a068032-6025-4896-f070-b48a962802a5"
      },
      "outputs": [
        {
          "data": {
            "text/plain": [
              "21"
            ]
          },
          "execution_count": 32,
          "metadata": {
            "tags": []
          },
          "output_type": "execute_result"
        }
      ],
      "source": [
        "data['Occupation'].nunique()"
      ]
    },
    {
      "cell_type": "code",
      "execution_count": null,
      "metadata": {
        "id": "gORLRxJZyghg"
      },
      "outputs": [],
      "source": [
        "occupations_id = list(range(0,21))\n",
        "spent_money=[]\n",
        "for oid in occupations_id:\n",
        "  spent_money.append(data[data['Occupation'] == oid]['Purchase'].sum())"
      ]
    },
    {
      "cell_type": "code",
      "execution_count": null,
      "metadata": {
        "colab": {
          "base_uri": "https://localhost:8080/",
          "height": 290
        },
        "id": "FWSS0Tg1wOzZ",
        "outputId": "db468d0a-c93f-4f05-83f7-027f1a712be4"
      },
      "outputs": [
        {
          "data": {
            "image/png": "[encoded data removed]",
            "text/plain": [
              "<Figure size 432x288 with 1 Axes>"
            ]
          },
          "metadata": {
            "needs_background": "light",
            "tags": []
          },
          "output_type": "display_data"
        }
      ],
      "source": [
        "objects = ('0', '1', '2', '3', '4', '5','6','7','8','9','10', '11','12', '13', '14', '15', '16', '17', '18', '19', '20')\n",
        "y_pos = np.arange(len(objects))\n",
        "\n",
        "plt.bar(y_pos, spent_money, align='center', alpha=0.5)    #align : 막대 위치\n",
        "plt.xticks(y_pos, objects)\n",
        "plt.ylabel('Money spent')\n",
        "plt.xlabel('Occupation ID')\n",
        "\n",
        "plt.show()"
      ]
    },
    {
      "cell_type": "markdown",
      "metadata": {
        "id": "9DAXIZoB0Kld"
      },
      "source": [
        "## Data Preprocessing\n",
        "\n",
        "* Missing data in columns 'Product_Category_2' and 'Product_Category_3'\n",
        "  * Fill missing values with the mean of the existing values\n",
        "\n",
        "* Drop less important data\n",
        "\n",
        "* Categorical variables: 'Gender', 'Age', 'City_Category' and 'Stay_In_Current_City_Years'\n",
        "  * Use [`LabelEncoder`](https://scikit-learn.org/stable/modules/generated/sklearn.preprocessing.LabelEncoder.html) from sklearn that encodes target labels with value between 0 and 'n_classes-1'\n",
        "    * Encode using `fit` and `transform` operations\n",
        "\n",
        "* Scaling variables:\n",
        "  * Use [`StandardScaler`](https://scikit-learn.org/stable/modules/generated/sklearn.preprocessing.StandardScaler.html#sklearn.preprocessing.StandardScaler) from sklearn that standardizes features by removing the mean and scaling to unit variance"
      ]
    },
    {
      "cell_type": "code",
      "execution_count": null,
      "metadata": {
        "id": "TN4UyKQX5GGh"
      },
      "outputs": [],
      "source": [
        "import sklearn\n",
        "from sklearn.preprocessing import LabelEncoder, StandardScaler"
      ]
    },
    {
      "cell_type": "code",
      "execution_count": null,
      "metadata": {
        "colab": {
          "base_uri": "https://localhost:8080/"
        },
        "id": "h17RqviYQ_Zy",
        "outputId": "c1603920-e8b6-4a94-d5cb-2ee617fdf490"
      },
      "outputs": [
        {
          "name": "stdout",
          "output_type": "stream",
          "text": [
            "<class 'pandas.core.frame.DataFrame'>\n",
            "RangeIndex: 550068 entries, 0 to 550067\n",
            "Data columns (total 11 columns):\n",
            " #   Column                      Non-Null Count   Dtype  \n",
            "---  ------                      --------------   -----  \n",
            " 0   User_ID                     550068 non-null  int64  \n",
            " 1   Product_ID                  550068 non-null  object \n",
            " 2   Gender                      550068 non-null  object \n",
            " 3   Age                         550068 non-null  object \n",
            " 4   Occupation                  550068 non-null  int64  \n",
            " 5   City_Category               550068 non-null  object \n",
            " 6   Stay_In_Current_City_Years  550068 non-null  object \n",
            " 7   Marital_Status              550068 non-null  int64  \n",
            " 8   Product_Category_1          550068 non-null  int64  \n",
            " 9   Product_Category_2          376430 non-null  float64\n",
            " 10  Product_Category_3          166821 non-null  float64\n",
            "dtypes: float64(2), int64(4), object(5)\n",
            "memory usage: 46.2+ MB\n"
          ]
        }
      ],
      "source": [
        "# target 제외\n",
        "X = data.drop(['Purchase'], axis=1)\n",
        "X.info()"
      ]
    },
    {
      "cell_type": "code",
      "execution_count": null,
      "metadata": {
        "colab": {
          "base_uri": "https://localhost:8080/"
        },
        "id": "WJ9npRqIRbbZ",
        "outputId": "5ee2ec84-31ab-40c2-9fcf-098df2776f42"
      },
      "outputs": [
        {
          "data": {
            "text/plain": [
              "0     8370\n",
              "1    15200\n",
              "2     1422\n",
              "3     1057\n",
              "4     7969\n",
              "Name: Purchase, dtype: int64"
            ]
          },
          "execution_count": 37,
          "metadata": {
            "tags": []
          },
          "output_type": "execute_result"
        }
      ],
      "source": [
        "# target만 저장\n",
        "y = data['Purchase']\n",
        "y.head()"
      ]
    },
    {
      "cell_type": "code",
      "execution_count": null,
      "metadata": {
        "colab": {
          "base_uri": "https://localhost:8080/"
        },
        "id": "LIiblz2H9ClV",
        "outputId": "a3fd8da8-c179-4cd7-ef22-296f5fd33286"
      },
      "outputs": [
        {
          "data": {
            "text/plain": [
              "User_ID                            0\n",
              "Product_ID                         0\n",
              "Gender                             0\n",
              "Age                                0\n",
              "Occupation                         0\n",
              "City_Category                      0\n",
              "Stay_In_Current_City_Years         0\n",
              "Marital_Status                     0\n",
              "Product_Category_1                 0\n",
              "Product_Category_2            173638\n",
              "Product_Category_3            383247\n",
              "dtype: int64"
            ]
          },
          "execution_count": 38,
          "metadata": {
            "tags": []
          },
          "output_type": "execute_result"
        }
      ],
      "source": [
        "X.isnull().sum()"
      ]
    },
    {
      "cell_type": "code",
      "execution_count": null,
      "metadata": {
        "id": "a-DXGoTk9ChO"
      },
      "outputs": [],
      "source": [
        "# imputing missing values\n",
        "\n",
        "X['Product_Category_2'].fillna(value=X['Product_Category_2'].mean(), inplace=True)\n",
        "X['Product_Category_3'].fillna(value=X['Product_Category_3'].mean(), inplace=True)"
      ]
    },
    {
      "cell_type": "code",
      "execution_count": null,
      "metadata": {
        "colab": {
          "base_uri": "https://localhost:8080/"
        },
        "id": "Q6fnv-QM-GH3",
        "outputId": "04e15776-ca5b-4862-e2fa-3842ba39ba12"
      },
      "outputs": [
        {
          "name": "stdout",
          "output_type": "stream",
          "text": [
            "<class 'pandas.core.frame.DataFrame'>\n",
            "RangeIndex: 550068 entries, 0 to 550067\n",
            "Data columns (total 11 columns):\n",
            " #   Column                      Non-Null Count   Dtype  \n",
            "---  ------                      --------------   -----  \n",
            " 0   User_ID                     550068 non-null  int64  \n",
            " 1   Product_ID                  550068 non-null  object \n",
            " 2   Gender                      550068 non-null  object \n",
            " 3   Age                         550068 non-null  object \n",
            " 4   Occupation                  550068 non-null  int64  \n",
            " 5   City_Category               550068 non-null  object \n",
            " 6   Stay_In_Current_City_Years  550068 non-null  object \n",
            " 7   Marital_Status              550068 non-null  int64  \n",
            " 8   Product_Category_1          550068 non-null  int64  \n",
            " 9   Product_Category_2          550068 non-null  float64\n",
            " 10  Product_Category_3          550068 non-null  float64\n",
            "dtypes: float64(2), int64(4), object(5)\n",
            "memory usage: 46.2+ MB\n"
          ]
        }
      ],
      "source": [
        "X.info()"
      ]
    },
    {
      "cell_type": "code",
      "execution_count": null,
      "metadata": {
        "id": "OKFVFxpJfbDP"
      },
      "outputs": [],
      "source": [
        "user_id = X['User_ID']\n",
        "product_id = X['Product_ID']\n",
        "\n",
        "X.drop(['User_ID', 'Product_ID', 'Product_Category_3'], axis=1, inplace=True)"
      ]
    },
    {
      "cell_type": "code",
      "execution_count": null,
      "metadata": {
        "colab": {
          "base_uri": "https://localhost:8080/"
        },
        "id": "oZZoONTAFuvd",
        "outputId": "ab6fb7a8-9e9e-4c2a-ba27-2aff5aa1ec1d"
      },
      "outputs": [
        {
          "name": "stdout",
          "output_type": "stream",
          "text": [
            "<class 'pandas.core.frame.DataFrame'>\n",
            "RangeIndex: 550068 entries, 0 to 550067\n",
            "Data columns (total 8 columns):\n",
            " #   Column                      Non-Null Count   Dtype  \n",
            "---  ------                      --------------   -----  \n",
            " 0   Gender                      550068 non-null  object \n",
            " 1   Age                         550068 non-null  object \n",
            " 2   Occupation                  550068 non-null  int64  \n",
            " 3   City_Category               550068 non-null  object \n",
            " 4   Stay_In_Current_City_Years  550068 non-null  object \n",
            " 5   Marital_Status              550068 non-null  int64  \n",
            " 6   Product_Category_1          550068 non-null  int64  \n",
            " 7   Product_Category_2          550068 non-null  float64\n",
            "dtypes: float64(1), int64(3), object(4)\n",
            "memory usage: 33.6+ MB\n"
          ]
        }
      ],
      "source": [
        "X.info()"
      ]
    },
    {
      "cell_type": "code",
      "execution_count": null,
      "metadata": {
        "id": "zOFd_CdvF_jT"
      },
      "outputs": [],
      "source": [
        "le = LabelEncoder()\n",
        "encoding_list = ['Gender', 'Age', 'City_Category', 'Stay_In_Current_City_Years']\n",
        "\n",
        "for item in encoding_list:\n",
        "  X[item] = le.fit_transform(X[item])   #fit + transform\n"
      ]
    },
    {
      "cell_type": "code",
      "execution_count": null,
      "metadata": {
        "colab": {
          "base_uri": "https://localhost:8080/",
          "height": 218
        },
        "id": "2K9QyPEbGvu0",
        "outputId": "b827b8d1-d996-48dd-cd7c-b1fbb73394cc"
      },
      "outputs": [
        {
          "data": {
            "text/html": [
              "<div>\n",
              "<style scoped>\n",
              "    .dataframe tbody tr th:only-of-type {\n",
              "        vertical-align: middle;\n",
              "    }\n",
              "\n",
              "    .dataframe tbody tr th {\n",
              "        vertical-align: top;\n",
              "    }\n",
              "\n",
              "    .dataframe thead th {\n",
              "        text-align: right;\n",
              "    }\n",
              "</style>\n",
              "<table border=\"1\" class=\"dataframe\">\n",
              "  <thead>\n",
              "    <tr style=\"text-align: right;\">\n",
              "      <th></th>\n",
              "      <th>Gender</th>\n",
              "      <th>Age</th>\n",
              "      <th>Occupation</th>\n",
              "      <th>City_Category</th>\n",
              "      <th>Stay_In_Current_City_Years</th>\n",
              "      <th>Marital_Status</th>\n",
              "      <th>Product_Category_1</th>\n",
              "      <th>Product_Category_2</th>\n",
              "    </tr>\n",
              "  </thead>\n",
              "  <tbody>\n",
              "    <tr>\n",
              "      <th>0</th>\n",
              "      <td>0</td>\n",
              "      <td>0</td>\n",
              "      <td>10</td>\n",
              "      <td>0</td>\n",
              "      <td>2</td>\n",
              "      <td>0</td>\n",
              "      <td>3</td>\n",
              "      <td>9.842329</td>\n",
              "    </tr>\n",
              "    <tr>\n",
              "      <th>1</th>\n",
              "      <td>0</td>\n",
              "      <td>0</td>\n",
              "      <td>10</td>\n",
              "      <td>0</td>\n",
              "      <td>2</td>\n",
              "      <td>0</td>\n",
              "      <td>1</td>\n",
              "      <td>6.000000</td>\n",
              "    </tr>\n",
              "    <tr>\n",
              "      <th>2</th>\n",
              "      <td>0</td>\n",
              "      <td>0</td>\n",
              "      <td>10</td>\n",
              "      <td>0</td>\n",
              "      <td>2</td>\n",
              "      <td>0</td>\n",
              "      <td>12</td>\n",
              "      <td>9.842329</td>\n",
              "    </tr>\n",
              "    <tr>\n",
              "      <th>3</th>\n",
              "      <td>0</td>\n",
              "      <td>0</td>\n",
              "      <td>10</td>\n",
              "      <td>0</td>\n",
              "      <td>2</td>\n",
              "      <td>0</td>\n",
              "      <td>12</td>\n",
              "      <td>14.000000</td>\n",
              "    </tr>\n",
              "    <tr>\n",
              "      <th>4</th>\n",
              "      <td>1</td>\n",
              "      <td>6</td>\n",
              "      <td>16</td>\n",
              "      <td>2</td>\n",
              "      <td>4</td>\n",
              "      <td>0</td>\n",
              "      <td>8</td>\n",
              "      <td>9.842329</td>\n",
              "    </tr>\n",
              "  </tbody>\n",
              "</table>\n",
              "</div>"
            ],
            "text/plain": [
              "   Gender  Age  ...  Product_Category_1  Product_Category_2\n",
              "0       0    0  ...                   3            9.842329\n",
              "1       0    0  ...                   1            6.000000\n",
              "2       0    0  ...                  12            9.842329\n",
              "3       0    0  ...                  12           14.000000\n",
              "4       1    6  ...                   8            9.842329\n",
              "\n",
              "[5 rows x 8 columns]"
            ]
          },
          "execution_count": 44,
          "metadata": {
            "tags": []
          },
          "output_type": "execute_result"
        }
      ],
      "source": [
        "X.head()"
      ]
    },
    {
      "cell_type": "code",
      "execution_count": null,
      "metadata": {
        "colab": {
          "base_uri": "https://localhost:8080/"
        },
        "id": "wHrydgTfF_zy",
        "outputId": "e912122e-469d-49b1-f7e2-899974adce4f"
      },
      "outputs": [
        {
          "name": "stdout",
          "output_type": "stream",
          "text": [
            "(550068, 8)\n"
          ]
        }
      ],
      "source": [
        "print(X.shape)"
      ]
    },
    {
      "cell_type": "code",
      "execution_count": null,
      "metadata": {
        "id": "lzTOZTKLG26q"
      },
      "outputs": [],
      "source": [
        "sc = StandardScaler()\n",
        "\n",
        "X = sc.fit_transform(X)"
      ]
    },
    {
      "cell_type": "code",
      "execution_count": null,
      "metadata": {
        "colab": {
          "base_uri": "https://localhost:8080/"
        },
        "id": "_gYi0RhTHNcl",
        "outputId": "2528d524-d0aa-4a63-fdb8-fa3a77c68690"
      },
      "outputs": [
        {
          "data": {
            "text/plain": [
              "array([[-1.74651251e+00, -1.84424754e+00,  2.94863556e-01,\n",
              "        -1.37151602e+00,  1.09801420e-01, -8.33017987e-01,\n",
              "        -6.10808714e-01,  4.22153275e-16],\n",
              "       [-1.74651251e+00, -1.84424754e+00,  2.94863556e-01,\n",
              "        -1.37151602e+00,  1.09801420e-01, -8.33017987e-01,\n",
              "        -1.11891197e+00, -9.13134028e-01],\n",
              "       [-1.74651251e+00, -1.84424754e+00,  2.94863556e-01,\n",
              "        -1.37151602e+00,  1.09801420e-01, -8.33017987e-01,\n",
              "         1.67565594e+00,  4.22153275e-16],\n",
              "       [-1.74651251e+00, -1.84424754e+00,  2.94863556e-01,\n",
              "        -1.37151602e+00,  1.09801420e-01, -8.33017987e-01,\n",
              "         1.67565594e+00,  9.88075303e-01],\n",
              "       [ 5.72569618e-01,  2.58827703e+00,  1.21473444e+00,\n",
              "         1.25933601e+00,  1.66086068e+00, -8.33017987e-01,\n",
              "         6.59449430e-01,  4.22153275e-16]])"
            ]
          },
          "execution_count": 47,
          "metadata": {
            "tags": []
          },
          "output_type": "execute_result"
        }
      ],
      "source": [
        "X[:5]"
      ]
    },
    {
      "cell_type": "code",
      "execution_count": null,
      "metadata": {
        "colab": {
          "base_uri": "https://localhost:8080/"
        },
        "id": "dZr3yTvqg4j6",
        "outputId": "31ef02ee-ef4a-4206-d41e-6978408ccb6b"
      },
      "outputs": [
        {
          "name": "stdout",
          "output_type": "stream",
          "text": [
            "(550068, 8)\n",
            "(550068,)\n"
          ]
        }
      ],
      "source": [
        "print(X.shape)\n",
        "print(y.shape)"
      ]
    },
    {
      "cell_type": "markdown",
      "metadata": {
        "id": "JuJgdmwR6sT4"
      },
      "source": [
        "## Predict the amount of Purchase: Regression\n",
        "\n",
        "We will first use linear regression model in order to predict the amount spent by the customer on Black Friday. We will use [`sklearn.linear_model.LinearRegression`](https://scikit-learn.org/stable/modules/generated/sklearn.linear_model.LinearRegression.html?highlight=linear%20regression#sklearn.linear_model.LinearRegression)."
      ]
    },
    {
      "cell_type": "code",
      "execution_count": null,
      "metadata": {
        "id": "fLI1Wvcg6hoH"
      },
      "outputs": [],
      "source": [
        "from sklearn.model_selection import train_test_split\n",
        "\n",
        "from sklearn.linear_model import LinearRegression\n",
        "from sklearn.ensemble import RandomForestRegressor\n",
        "from sklearn.tree import DecisionTreeRegressor\n",
        "\n",
        "from sklearn.metrics import mean_squared_error"
      ]
    },
    {
      "cell_type": "markdown",
      "metadata": {
        "id": "FYerNr1U7Li-"
      },
      "source": [
        "### Train, Test datasets\n",
        "\n",
        "First, we need to divide all of data into two sets: training and testing set. The training set will be used to fit our model. Training data is always used for learning, finding model parameters that minimizes an error on the output. The test data will be used to evaluate performances.\n",
        "\n",
        "We can use [`sklearn.model_selection.train_test_split()`](https://scikit-learn.org/stable/modules/generated/sklearn.model_selection.train_test_split.html?highlight=train%20test%20split#sklearn.model_selection.train_test_split) to split the entire dataset into random train and test subsets."
      ]
    },
    {
      "cell_type": "code",
      "execution_count": null,
      "metadata": {
        "id": "cfRy5foehTXl"
      },
      "outputs": [],
      "source": [
        "X_train, X_test, y_train, y_test = train_test_split(X, y, test_size=0.2)"
      ]
    },
    {
      "cell_type": "markdown",
      "metadata": {
        "id": "THpyqHQz722M"
      },
      "source": [
        "### Build a model, Fit the model, and Evaluate the model"
      ]
    },
    {
      "cell_type": "code",
      "execution_count": null,
      "metadata": {
        "colab": {
          "base_uri": "https://localhost:8080/"
        },
        "id": "TbB-TKCpHpBU",
        "outputId": "6502c260-e3bb-463f-c644-7c774ff71539"
      },
      "outputs": [
        {
          "data": {
            "text/plain": [
              "LinearRegression(copy_X=True, fit_intercept=True, n_jobs=None, normalize=False)"
            ]
          },
          "execution_count": 51,
          "metadata": {
            "tags": []
          },
          "output_type": "execute_result"
        }
      ],
      "source": [
        "lin_reg = LinearRegression()\n",
        "lin_reg"
      ]
    },
    {
      "cell_type": "code",
      "execution_count": null,
      "metadata": {
        "colab": {
          "base_uri": "https://localhost:8080/"
        },
        "id": "ewnKfm3tHr4u",
        "outputId": "acd1b1a0-316c-4b99-f223-554e2d870f53"
      },
      "outputs": [
        {
          "data": {
            "text/plain": [
              "LinearRegression(copy_X=True, fit_intercept=True, n_jobs=None, normalize=False)"
            ]
          },
          "execution_count": 52,
          "metadata": {
            "tags": []
          },
          "output_type": "execute_result"
        }
      ],
      "source": [
        "lin_reg.fit(X_train, y_train)"
      ]
    },
    {
      "cell_type": "code",
      "execution_count": null,
      "metadata": {
        "colab": {
          "base_uri": "https://localhost:8080/"
        },
        "id": "mamMS0RtHt7C",
        "outputId": "768df35f-f64d-4b96-9c37-57e5936812f0"
      },
      "outputs": [
        {
          "data": {
            "text/plain": [
              "array([  222.60785222,   161.9690327 ,    41.24174555,   262.5130977 ,\n",
              "          10.11081206,   -27.69792313, -1613.14776836,  -297.15689458])"
            ]
          },
          "execution_count": 53,
          "metadata": {
            "tags": []
          },
          "output_type": "execute_result"
        }
      ],
      "source": [
        "lin_reg.coef_"
      ]
    },
    {
      "cell_type": "code",
      "execution_count": null,
      "metadata": {
        "colab": {
          "base_uri": "https://localhost:8080/"
        },
        "id": "wuaE0O6qHzBS",
        "outputId": "45f871d3-7d28-4b9d-b73c-8a270eaf3124"
      },
      "outputs": [
        {
          "data": {
            "text/plain": [
              "9266.286099823912"
            ]
          },
          "execution_count": 54,
          "metadata": {
            "tags": []
          },
          "output_type": "execute_result"
        }
      ],
      "source": [
        "lin_reg.intercept_"
      ]
    },
    {
      "cell_type": "code",
      "execution_count": null,
      "metadata": {
        "id": "lD5zcZmUH0tk"
      },
      "outputs": [],
      "source": [
        "y_pred_train = lin_reg.predict(X_train)\n",
        "y_pred_test = lin_reg.predict(X_test)"
      ]
    },
    {
      "cell_type": "code",
      "execution_count": null,
      "metadata": {
        "colab": {
          "base_uri": "https://localhost:8080/"
        },
        "id": "iC7kgQBqH6wT",
        "outputId": "03c90ff3-4667-4cf8-8edf-0fed03746d10"
      },
      "outputs": [
        {
          "name": "stdout",
          "output_type": "stream",
          "text": [
            "Linear regression: RMSE train: 4693.971575\n",
            "Linear regression: RMSE test: 4683.932869\n"
          ]
        }
      ],
      "source": [
        "mse_train = mean_squared_error(y_train, y_pred_train)\n",
        "mse_test = mean_squared_error(y_test, y_pred_test)\n",
        "\n",
        "print('Linear regression: RMSE train: %f' %(np.sqrt(mse_train)))\n",
        "print('Linear regression: RMSE test: %f' %(np.sqrt(mse_test)))"
      ]
    },
    {
      "cell_type": "markdown",
      "metadata": {
        "id": "X0U2acz18Hvy"
      },
      "source": [
        "### Try other models"
      ]
    },
    {
      "cell_type": "code",
      "execution_count": null,
      "metadata": {
        "colab": {
          "base_uri": "https://localhost:8080/"
        },
        "id": "HbznFE8mj5Nv",
        "outputId": "59bec08b-ffae-4f14-f3d6-2d4eb5b77af2"
      },
      "outputs": [
        {
          "name": "stdout",
          "output_type": "stream",
          "text": [
            "Tree RMSE train: 2952.369834\n",
            "Tree RMSE test: 3000.184305\n"
          ]
        }
      ],
      "source": [
        "tree_reg = DecisionTreeRegressor(max_depth=10)\n",
        "tree_reg.fit(X_train, y_train)\n",
        "\n",
        "y_pred_train = tree_reg.predict(X_train)\n",
        "y_pred_test = tree_reg.predict(X_test)\n",
        "\n",
        "mse_train = mean_squared_error(y_train, y_pred_train)\n",
        "mse_test = mean_squared_error(y_test, y_pred_test)\n",
        "\n",
        "print('Tree RMSE train: %f' %(np.sqrt(mse_train)))\n",
        "print('Tree RMSE test: %f' %(np.sqrt(mse_test)))"
      ]
    },
    {
      "cell_type": "code",
      "execution_count": null,
      "metadata": {
        "colab": {
          "base_uri": "https://localhost:8080/"
        },
        "id": "lkwjoXaokNTe",
        "outputId": "e12a0afa-dfe6-4759-ca93-daede6b364cf"
      },
      "outputs": [
        {
          "name": "stdout",
          "output_type": "stream",
          "text": [
            "Forest RMSE train: 2941.267691\n",
            "Forest RMSE test: 2989.526689\n"
          ]
        }
      ],
      "source": [
        "forest_reg = RandomForestRegressor(max_depth=10, n_estimators=10)\n",
        "forest_reg.fit(X_train, y_train)\n",
        "\n",
        "y_pred_train = forest_reg.predict(X_train)\n",
        "y_pred_test = forest_reg.predict(X_test)\n",
        "\n",
        "mse_train = mean_squared_error(y_train, y_pred_train)\n",
        "mse_test = mean_squared_error(y_test, y_pred_test)\n",
        "\n",
        "print('Forest RMSE train: %f' %(np.sqrt(mse_train)))\n",
        "print('Forest RMSE test: %f' %(np.sqrt(mse_test)))"
      ]
    },
    {
      "cell_type": "markdown",
      "metadata": {
        "id": "49YGYi_W8ST6"
      },
      "source": [
        "### Visualize learning results\n",
        "\n",
        "We can check both the training score and validation score during the training by using [`learning_curve()`](https://scikit-learn.org/stable/modules/generated/sklearn.model_selection.learning_curve.html?highlight=learning_curve#sklearn.model_selection.learning_curve): it displays cross-validated training and test scores for different training set sizes.\n",
        "\n",
        "We can use [`sklearn.model_selection.validation_curve()`](https://scikit-learn.org/stable/modules/generated/sklearn.model_selection.validation_curve.html#sklearn.model_selection.validation_curve) to compute and see training and test scores for varying parameter values."
      ]
    },
    {
      "cell_type": "code",
      "execution_count": null,
      "metadata": {
        "id": "OVac_PIg8XPh"
      },
      "outputs": [],
      "source": [
        "from sklearn.model_selection import learning_curve, validation_curve"
      ]
    },
    {
      "cell_type": "code",
      "execution_count": null,
      "metadata": {
        "id": "JT6hezhiF_49"
      },
      "outputs": [],
      "source": [
        "forest_reg = RandomForestRegressor(max_depth=10, n_estimators=10)\n",
        "train_sizes, train_scores, test_scores = learning_curve(estimator=forest_reg, X=X_train, y=y_train, cv=5) # cv : cross validation"
      ]
    },
    {
      "cell_type": "code",
      "execution_count": null,
      "metadata": {
        "colab": {
          "base_uri": "https://localhost:8080/",
          "height": 295
        },
        "id": "VbMn2iQsPJ_m",
        "outputId": "2d6f315d-1fea-4413-91fe-431d76d97875"
      },
      "outputs": [
        {
          "data": {
            "image/png": "[encoded data removed]",
            "text/plain": [
              "<Figure size 432x288 with 1 Axes>"
            ]
          },
          "metadata": {
            "needs_background": "light",
            "tags": []
          },
          "output_type": "display_data"
        }
      ],
      "source": [
        "train_scores_mean = np.mean(train_scores, axis=1)\n",
        "train_scores_std = np.std(train_scores, axis=1)\n",
        "test_scores_mean = np.mean(test_scores, axis=1)\n",
        "test_scores_std = np.std(test_scores, axis=1)\n",
        "\n",
        "plt.title(\"Learning Curve with Forest\")\n",
        "plt.xlabel(r\"Training set size\")\n",
        "plt.ylabel(\"Score\")\n",
        "plt.plot(train_sizes, train_scores_mean, 'o-', color='r', label='Training score')\n",
        "plt.plot(train_sizes, test_scores_mean, 'o-', color='g', label='Cross-validation score')\n",
        "plt.legend(loc='best')\n",
        "plt.grid()\n",
        "plt.fill_between(train_sizes, train_scores_mean - train_scores_std,\n",
        "                         train_scores_mean + train_scores_std, alpha=0.1,\n",
        "                         color='r')\n",
        "plt.fill_between(train_sizes, test_scores_mean - test_scores_std,\n",
        "                         test_scores_mean + test_scores_std, alpha=0.1,\n",
        "                         color='g')\n",
        "plt.show()"
      ]
    },
    {
      "cell_type": "code",
      "execution_count": null,
      "metadata": {
        "id": "8lI-ME2iPKDF"
      },
      "outputs": [],
      "source": [
        "forest_reg = RandomForestRegressor(max_depth=10, n_estimators=10)\n",
        "param_range = np.arange(1, 16, 3)\n",
        "\n",
        "train_scores, test_scores = validation_curve(estimator=forest_reg, X=X_train, y=y_train, cv=5, param_name='max_depth', param_range=param_range)"
      ]
    },
    {
      "cell_type": "code",
      "execution_count": null,
      "metadata": {
        "colab": {
          "base_uri": "https://localhost:8080/",
          "height": 295
        },
        "id": "d2x3m4KYrwpn",
        "outputId": "070cce6a-bc49-465b-d682-1942ca1a1480"
      },
      "outputs": [
        {
          "data": {
            "image/png": "[encoded data removed]",
            "text/plain": [
              "<Figure size 432x288 with 1 Axes>"
            ]
          },
          "metadata": {
            "needs_background": "light",
            "tags": []
          },
          "output_type": "display_data"
        }
      ],
      "source": [
        "train_scores_mean = np.mean(train_scores, axis=1)\n",
        "train_scores_std = np.std(train_scores, axis=1)\n",
        "test_scores_mean = np.mean(test_scores, axis=1)\n",
        "test_scores_std = np.std(test_scores, axis=1)\n",
        "\n",
        "plt.title(\"Validation Curve with Forest\")\n",
        "plt.xlabel(r\"max depth\")\n",
        "plt.ylabel(\"Score\")\n",
        "plt.grid()\n",
        "plt.ylim(0.0, 1.1)\n",
        "lw = 2\n",
        "plt.plot(param_range, train_scores_mean, label=\"Training score\",\n",
        "             color=\"darkorange\", marker='o', lw=lw)\n",
        "plt.fill_between(param_range, train_scores_mean - train_scores_std,\n",
        "                 train_scores_mean + train_scores_std, alpha=0.2,\n",
        "                 color=\"darkorange\", lw=lw)\n",
        "plt.plot(param_range, test_scores_mean, label=\"Cross-validation score\",\n",
        "             color=\"navy\", marker='s', lw=lw)\n",
        "plt.fill_between(param_range, test_scores_mean - test_scores_std,\n",
        "                 test_scores_mean + test_scores_std, alpha=0.2,\n",
        "                 color=\"navy\", lw=lw)\n",
        "plt.legend(loc=\"best\")\n",
        "plt.show()"
      ]
    }
  ],
  "metadata": {
    "colab": {
      "provenance": [],
      "toc_visible": true
    },
    "kernelspec": {
      "display_name": "Python 3",
      "name": "python3"
    },
    "language_info": {
      "name": "python"
    }
  },
  "nbformat": 4,
  "nbformat_minor": 0
}
